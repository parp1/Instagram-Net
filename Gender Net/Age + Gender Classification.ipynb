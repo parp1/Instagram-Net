{
 "cells": [
  {
   "cell_type": "code",
   "execution_count": null,
   "metadata": {},
   "outputs": [],
   "source": [
    "%matplotlib inline\n",
    "import scipy.io\n",
    "import numpy as np\n",
    "import os\n",
    "import matplotlib.pyplot as plt\n",
    "import cv2\n",
    "import glob\n",
    "from wide_resnet import WideResNet\n",
    "from keras.preprocessing import image"
   ]
  },
  {
   "cell_type": "code",
   "execution_count": null,
   "metadata": {
    "collapsed": true
   },
   "outputs": [],
   "source": [
    "# Importing pretrained age + gender classification weights.\n",
    "img_size = 64\n",
    "model = WideResNet(img_size, depth=16, k=8)()\n",
    "model.load_weights(os.path.join(\"pretrained weights\", \"weights.18-4.06.hdf5\"))"
   ]
  },
  {
   "cell_type": "code",
   "execution_count": null,
   "metadata": {},
   "outputs": [],
   "source": [
    "# Getting images and creating subdirectories\n",
    "examples_directory = \"C:\\\\Users\\\\Parth\\\\Desktop\\\\examples\\\\\"\n",
    "data_directory = \"C:\\\\Users\\\\Parth\\\\Desktop\\\\examples\\\\data\\\\\"\n",
    "dataset_directory = \"C:\\\\Users\\\\Parth\\\\Desktop\\\\dataset\\\\\"\n",
    "g = glob.glob(data_directory + \"*.jpg\")\n",
    "print(len(g))\n",
    "\n",
    "try:\n",
    "    os.mkdir(dataset_directory + \"male\")\n",
    "    os.mkdir(dataset_directory + \"female\")\n",
    "except Exception as e:\n",
    "    pass # directories already created"
   ]
  },
  {
   "cell_type": "code",
   "execution_count": null,
   "metadata": {},
   "outputs": [],
   "source": [
    "# Parsing through all images\n",
    "\n",
    "gen = image.ImageDataGenerator()\n",
    "batches = gen.flow_from_directory(examples_directory, target_size=(64,64), class_mode=None, shuffle=False, batch_size=64)"
   ]
  },
  {
   "cell_type": "raw",
   "metadata": {},
   "source": [
    "# Propagating examples through gender + age classifier\n",
    "results = model.predict_generator(batches, verbose = 1)\n",
    "\n",
    "predicted_genders = results[0]\n",
    "print(predicted_genders)\n",
    "ages = np.arange(0, 101).reshape(101, 1)\n",
    "predicted_ages = results[1].dot(ages).flatten()\n",
    "\n",
    "print(\"Got predictions.\")\n",
    "\n",
    "\n",
    "for i in range(len(predicted_genders)):\n",
    "    if predicted_ages[i] >= 13:\n",
    "        current_filename_basename = os.path.basename(batches.filenames[i])\n",
    "        print(current_filename_basename)\n",
    "        if predicted_genders[i][0] >= 0.8:\n",
    "            print(\"It's a female!\")\n",
    "            os.rename(data_directory + current_filename_basename, dataset_directory + \"female\\\\\" + current_filename_basename)\n",
    "        elif predicted_genders[i][1] >= 0.8:\n",
    "            os.rename(data_directory + current_filename_basename, dataset_directory + \"male\\\\\" + current_filename_basename)\n",
    "            print(\"It's a male!\")\n",
    "        else:\n",
    "            print(\"Unclear!\")"
   ]
  }
 ],
 "metadata": {
  "kernelspec": {
   "display_name": "Python 3",
   "language": "python",
   "name": "python3"
  },
  "language_info": {
   "codemirror_mode": {
    "name": "ipython",
    "version": 3
   },
   "file_extension": ".py",
   "mimetype": "text/x-python",
   "name": "python",
   "nbconvert_exporter": "python",
   "pygments_lexer": "ipython3",
   "version": "3.6.3"
  }
 },
 "nbformat": 4,
 "nbformat_minor": 2
}
